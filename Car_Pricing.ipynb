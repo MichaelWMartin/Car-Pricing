{
 "cells": [
  {
   "cell_type": "markdown",
   "metadata": {},
   "source": [
    "# Data science project for pricing cars "
   ]
  },
  {
   "cell_type": "code",
   "execution_count": null,
   "metadata": {},
   "outputs": [],
   "source": [
    "import numpy as np\n",
    "import pandas as pd\n",
    "import matplotlib.pyplot as plt\n",
    "import statsmodels\n",
    "import statsmodels.api as sm\n",
    "import seaborn as sns\n",
    "\n",
    "#Set the style options\n",
    "%matplotlib inline\n",
    "pd.set_option('display.max_columns', 1000)\n",
    "pd.set_option('display.max_rows', 1000)\n",
    "plt.style.use('seaborn')"
   ]
  },
  {
   "cell_type": "code",
   "execution_count": null,
   "metadata": {},
   "outputs": [],
   "source": [
    "#import the file\n",
    "df_cars = pd.read_csv('data/city_30.csv', index_col = 0, header = 0)\n",
    "\n",
    "#Drop picture for the sake of file size\n",
    "df_cars = df_cars.drop('main_picture_url', axis = 1)\n",
    "df_cars = df_cars.drop('description', axis = 1)"
   ]
  },
  {
   "cell_type": "code",
   "execution_count": null,
   "metadata": {
    "scrolled": true
   },
   "outputs": [],
   "source": [
    "df_cars.info()\n",
    "\n",
    "# view info"
   ]
  },
  {
   "cell_type": "markdown",
   "metadata": {},
   "source": [
    "## After importing and viewing the file, begin to explore the data. take note of Dtypes, non-null counts, and try to figure out what features are worth keeping or removing."
   ]
  },
  {
   "cell_type": "code",
   "execution_count": null,
   "metadata": {},
   "outputs": [],
   "source": [
    "df_cars['fleet'].describe()\n",
    "\n",
    "# describe fleet, note null values"
   ]
  },
  {
   "cell_type": "code",
   "execution_count": null,
   "metadata": {},
   "outputs": [],
   "source": [
    "df_cars.head()\n",
    "\n",
    "# view head"
   ]
  },
  {
   "cell_type": "code",
   "execution_count": null,
   "metadata": {},
   "outputs": [],
   "source": [
    "df_cars['transmission'].value_counts()\n",
    "\n",
    "# value counts for transmission"
   ]
  },
  {
   "cell_type": "code",
   "execution_count": null,
   "metadata": {},
   "outputs": [],
   "source": [
    "df_cars['frame_damaged'].value_counts()\n",
    "\n",
    "# value counts for frame damaged"
   ]
  },
  {
   "cell_type": "code",
   "execution_count": null,
   "metadata": {},
   "outputs": [],
   "source": [
    "df_copy = df_cars\n",
    "\n",
    "# make a copy"
   ]
  },
  {
   "cell_type": "code",
   "execution_count": null,
   "metadata": {},
   "outputs": [],
   "source": [
    "df_cars = df_cars.drop(['vehicle_damage_category', 'combine_fuel_economy', 'is_certified'], axis = 1)\n",
    "\n",
    "#drop the columns with no values"
   ]
  },
  {
   "cell_type": "code",
   "execution_count": null,
   "metadata": {},
   "outputs": [],
   "source": [
    "df_cars.info()\n",
    "\n",
    "# view info"
   ]
  },
  {
   "cell_type": "code",
   "execution_count": null,
   "metadata": {},
   "outputs": [],
   "source": [
    "def new_car(c):\n",
    "    if c['is_new']:\n",
    "        return 1\n",
    "    else:\n",
    "        return 0\n",
    "    \n",
    "df_cars['new'] = df_cars.apply(new_car,axis = 1)\n",
    "\n",
    "# engineer features and create new"
   ]
  },
  {
   "cell_type": "code",
   "execution_count": null,
   "metadata": {},
   "outputs": [],
   "source": [
    "df_cars['new'].describe()\n",
    "\n",
    "# describe new"
   ]
  },
  {
   "cell_type": "code",
   "execution_count": null,
   "metadata": {},
   "outputs": [],
   "source": [
    "df_cars.head()\n",
    "\n",
    "# view head"
   ]
  },
  {
   "cell_type": "code",
   "execution_count": null,
   "metadata": {},
   "outputs": [],
   "source": [
    "df_cars['is_cpo'].value_counts()\n",
    "\n",
    "# value counts for certified pre owned"
   ]
  },
  {
   "cell_type": "code",
   "execution_count": null,
   "metadata": {},
   "outputs": [],
   "source": [
    "from sklearn.preprocessing import LabelEncoder\n",
    "lc = LabelEncoder()\n",
    "\n",
    "# import library"
   ]
  },
  {
   "cell_type": "code",
   "execution_count": null,
   "metadata": {},
   "outputs": [],
   "source": [
    "df_cars['is_cpo'] = lc.fit_transform(df_cars['is_cpo'])\n",
    "df_cars['is_cpo'].value_counts()\n",
    "\n",
    "# encode values for is_cpo"
   ]
  },
  {
   "cell_type": "code",
   "execution_count": null,
   "metadata": {},
   "outputs": [],
   "source": [
    "df_cars.info()\n",
    "\n",
    "# view info"
   ]
  },
  {
   "cell_type": "code",
   "execution_count": null,
   "metadata": {},
   "outputs": [],
   "source": [
    "df_cars['dealer_zip'].value_counts()\n",
    "\n",
    "# value counts for dealer_zip"
   ]
  },
  {
   "cell_type": "code",
   "execution_count": null,
   "metadata": {},
   "outputs": [],
   "source": [
    "df_cars['city'].value_counts()\n",
    "\n",
    "# value_counts for city"
   ]
  },
  {
   "cell_type": "code",
   "execution_count": null,
   "metadata": {},
   "outputs": [],
   "source": [
    "df_reg = pd.DataFrame()\n",
    "\n",
    "# beginning the dataframe for the regression model. We will add to the dataframe as we go."
   ]
  },
  {
   "cell_type": "code",
   "execution_count": null,
   "metadata": {},
   "outputs": [],
   "source": [
    "df_reg['year'] = df_cars['year']\n",
    "\n",
    "# add year to regression model dataframe"
   ]
  },
  {
   "cell_type": "code",
   "execution_count": null,
   "metadata": {},
   "outputs": [],
   "source": [
    "df_reg.info()\n",
    "\n",
    "#view info"
   ]
  },
  {
   "cell_type": "code",
   "execution_count": null,
   "metadata": {},
   "outputs": [],
   "source": [
    "df_reg['is_new'] = df_cars['new']\n",
    "\n",
    "# add is_new to regression dataframe"
   ]
  },
  {
   "cell_type": "code",
   "execution_count": null,
   "metadata": {},
   "outputs": [],
   "source": [
    "df_reg['is_cpo'] = df_cars['is_cpo']\n",
    "\n",
    "# add is_cpo to new dataframe"
   ]
  },
  {
   "cell_type": "code",
   "execution_count": null,
   "metadata": {},
   "outputs": [],
   "source": [
    "df_reg.info()\n",
    "\n",
    "# view new dataframe"
   ]
  },
  {
   "cell_type": "code",
   "execution_count": null,
   "metadata": {},
   "outputs": [],
   "source": [
    "df_cars['city_fuel_economy'].value_counts()\n",
    "\n",
    "# value_counts for city_fuel_economy"
   ]
  },
  {
   "cell_type": "code",
   "execution_count": null,
   "metadata": {
    "scrolled": true
   },
   "outputs": [],
   "source": [
    "df_cars['city_fuel_economy'].describe()\n",
    "\n",
    "# describe city_fuel_economy"
   ]
  },
  {
   "cell_type": "code",
   "execution_count": null,
   "metadata": {},
   "outputs": [],
   "source": [
    "df_cars['city_fuel_economy'].isna()\n",
    "\n",
    "# search for missing values for city_fuel_economy"
   ]
  },
  {
   "cell_type": "code",
   "execution_count": null,
   "metadata": {},
   "outputs": [],
   "source": [
    "df_cars[df_cars['city_fuel_economy'].isna()].sample(20)\n",
    "\n",
    "# view sample of na for city_fuel_economy"
   ]
  },
  {
   "cell_type": "code",
   "execution_count": null,
   "metadata": {},
   "outputs": [],
   "source": [
    "df_cars['city_fuel_economy'] = df_cars['city_fuel_economy'].fillna(22)\n",
    "\n",
    "# fill null values with median"
   ]
  },
  {
   "cell_type": "code",
   "execution_count": null,
   "metadata": {},
   "outputs": [],
   "source": [
    "df_cars['city_fuel_economy'].value_counts()\n",
    "\n",
    "# value_counts for city_fuel_economy"
   ]
  },
  {
   "cell_type": "code",
   "execution_count": null,
   "metadata": {},
   "outputs": [],
   "source": [
    "df_reg['city_fuel_economy'] = df_cars['city_fuel_economy']\n",
    "\n",
    "# add city_fuel_economy to regression dataframe"
   ]
  },
  {
   "cell_type": "code",
   "execution_count": null,
   "metadata": {},
   "outputs": [],
   "source": [
    "df_cars['highway_fuel_economy'].describe()\n",
    "\n",
    "# describe highway fule economy"
   ]
  },
  {
   "cell_type": "code",
   "execution_count": null,
   "metadata": {},
   "outputs": [],
   "source": [
    "df_cars['highway_fuel_economy'] = df_cars['highway_fuel_economy'].fillna(29)\n",
    "\n",
    "# fill with median value from above"
   ]
  },
  {
   "cell_type": "code",
   "execution_count": null,
   "metadata": {},
   "outputs": [],
   "source": [
    "df_reg['highway_fuel_economy'] = df_cars['highway_fuel_economy']\n",
    "\n",
    "# add highway_fuel_economy to new dataframe"
   ]
  },
  {
   "cell_type": "code",
   "execution_count": null,
   "metadata": {},
   "outputs": [],
   "source": [
    "df_cars.info()\n",
    "\n",
    "# view info for cars"
   ]
  },
  {
   "cell_type": "code",
   "execution_count": null,
   "metadata": {},
   "outputs": [],
   "source": [
    "def accident(c):\n",
    "    if c['has_accidents']:\n",
    "        return 1\n",
    "    else:\n",
    "        return 0\n",
    "    \n",
    "df_cars['accidents'] = df_cars.apply(accident,axis = 1)\n",
    "\n",
    "# engineer features and create accidents"
   ]
  },
  {
   "cell_type": "code",
   "execution_count": null,
   "metadata": {},
   "outputs": [],
   "source": [
    "df_cars['accidents'].value_counts()\n",
    "\n",
    "# view value_counts"
   ]
  },
  {
   "cell_type": "code",
   "execution_count": null,
   "metadata": {},
   "outputs": [],
   "source": [
    "df_reg['has_accident'] = df_cars['accidents']\n",
    "\n",
    "# add accidents to regression dataframe"
   ]
  },
  {
   "cell_type": "code",
   "execution_count": null,
   "metadata": {},
   "outputs": [],
   "source": [
    "df_reg.info()\n",
    "\n",
    "# view info"
   ]
  },
  {
   "cell_type": "code",
   "execution_count": null,
   "metadata": {},
   "outputs": [],
   "source": [
    "df_cars['owner_count'].value_counts()\n",
    "\n",
    "# view value_counts for number of owners"
   ]
  },
  {
   "cell_type": "code",
   "execution_count": null,
   "metadata": {},
   "outputs": [],
   "source": [
    "df_cars['owner_count'] = df_cars['owner_count'].fillna(0)\n",
    "\n",
    "# fill missing values with 0 assuming that these cars are new"
   ]
  },
  {
   "cell_type": "code",
   "execution_count": null,
   "metadata": {},
   "outputs": [],
   "source": [
    "df_reg['owner_count'] = df_cars['owner_count']\n",
    "\n",
    "# add owner_count to regression dataframe"
   ]
  },
  {
   "cell_type": "code",
   "execution_count": null,
   "metadata": {},
   "outputs": [],
   "source": [
    "df_reg.info()\n",
    "\n",
    "# view info for regression model dataframe"
   ]
  },
  {
   "cell_type": "code",
   "execution_count": null,
   "metadata": {},
   "outputs": [],
   "source": [
    "df_cars['fuel_type'].value_counts()\n",
    "\n",
    "# view value_counts for fuel type"
   ]
  },
  {
   "cell_type": "code",
   "execution_count": null,
   "metadata": {},
   "outputs": [],
   "source": [
    "df_cars['fuel_type'] = df_cars['fuel_type'].fillna('Unknown')\n",
    "\n",
    "# fill na with 'Unknown'"
   ]
  },
  {
   "cell_type": "code",
   "execution_count": null,
   "metadata": {},
   "outputs": [],
   "source": [
    "df_cars['fuel_type'].value_counts()\n",
    "\n",
    "# view value_counts again"
   ]
  },
  {
   "cell_type": "code",
   "execution_count": null,
   "metadata": {},
   "outputs": [],
   "source": [
    "dummies_ft = pd.get_dummies(df_cars['fuel_type'], drop_first = False, prefix = 'ft', dtype = 'int')\n",
    "\n",
    "# dummy variables for fuel type"
   ]
  },
  {
   "cell_type": "code",
   "execution_count": null,
   "metadata": {},
   "outputs": [],
   "source": [
    "dummies_ft.sample(15, random_state = 42)\n",
    "\n",
    "# view sample of dummy variables "
   ]
  },
  {
   "cell_type": "code",
   "execution_count": null,
   "metadata": {},
   "outputs": [],
   "source": [
    "dummies_ft = dummies_ft.drop('ft_Gasoline', axis = 1)\n",
    "\n",
    "# drop gasoline"
   ]
  },
  {
   "cell_type": "code",
   "execution_count": null,
   "metadata": {},
   "outputs": [],
   "source": [
    "df_reg = pd.concat([df_reg, dummies_ft], axis = 1)\n",
    "\n",
    "# add dummy variables to regression dataframe"
   ]
  },
  {
   "cell_type": "code",
   "execution_count": null,
   "metadata": {},
   "outputs": [],
   "source": [
    "df_reg.info()\n",
    "\n",
    "# view info"
   ]
  },
  {
   "cell_type": "code",
   "execution_count": null,
   "metadata": {},
   "outputs": [],
   "source": [
    "df_cars['wheel_system'].value_counts()\n",
    "\n",
    "# value_counts for wheel system"
   ]
  },
  {
   "cell_type": "code",
   "execution_count": null,
   "metadata": {},
   "outputs": [],
   "source": [
    "df_cars['wheel_system'] = df_cars['wheel_system'].fillna('Unknown')\n",
    "\n",
    "# fill na with unknown"
   ]
  },
  {
   "cell_type": "code",
   "execution_count": null,
   "metadata": {},
   "outputs": [],
   "source": [
    "dummies_ws = pd.get_dummies(df_cars['wheel_system'], drop_first = False, prefix = 'ws', dtype = 'int')\n",
    "\n",
    "#dummy variables for wheel_system"
   ]
  },
  {
   "cell_type": "code",
   "execution_count": null,
   "metadata": {},
   "outputs": [],
   "source": [
    "dummies_ws.sample(15, random_state = 42)\n",
    "\n",
    "# view sample of dummy variables "
   ]
  },
  {
   "cell_type": "code",
   "execution_count": null,
   "metadata": {},
   "outputs": [],
   "source": [
    "df_reg = pd.concat([df_reg, dummies_ws], axis = 1)\n",
    "\n",
    "# add dummy variables to df_reg"
   ]
  },
  {
   "cell_type": "code",
   "execution_count": null,
   "metadata": {},
   "outputs": [],
   "source": [
    "df_reg = df_reg.drop('ws_FWD', axis = 1)\n",
    "\n",
    "# drop ws_FWD"
   ]
  },
  {
   "cell_type": "code",
   "execution_count": null,
   "metadata": {},
   "outputs": [],
   "source": [
    "df_reg.info()\n",
    "\n",
    "# view info"
   ]
  },
  {
   "cell_type": "code",
   "execution_count": null,
   "metadata": {},
   "outputs": [],
   "source": [
    "df_cars[df_cars['mileage'] == 0]\n",
    "\n",
    "# set mileage to 0"
   ]
  },
  {
   "cell_type": "code",
   "execution_count": null,
   "metadata": {},
   "outputs": [],
   "source": [
    "df_cars['mileage'] = df_cars['mileage'].fillna(0)\n",
    "\n",
    "# assume that cars with na for mileage are new"
   ]
  },
  {
   "cell_type": "code",
   "execution_count": null,
   "metadata": {},
   "outputs": [],
   "source": [
    "df_cars.info()\n",
    "\n",
    "# view info"
   ]
  },
  {
   "cell_type": "code",
   "execution_count": null,
   "metadata": {},
   "outputs": [],
   "source": [
    "df_reg['mileage'] = df_cars['mileage']\n",
    "\n",
    "# add mileage to df_reg"
   ]
  },
  {
   "cell_type": "code",
   "execution_count": null,
   "metadata": {},
   "outputs": [],
   "source": [
    "df_reg.info()\n",
    "\n",
    "# view info"
   ]
  },
  {
   "cell_type": "code",
   "execution_count": null,
   "metadata": {},
   "outputs": [],
   "source": [
    "df_reg['days_on_market'] = df_cars['daysonmarket']\n",
    "\n",
    "# add days_on_market to df_reg"
   ]
  },
  {
   "cell_type": "code",
   "execution_count": null,
   "metadata": {},
   "outputs": [],
   "source": [
    "df_reg['price'] = df_cars['price']\n",
    "\n",
    "# add price to df_reg"
   ]
  },
  {
   "cell_type": "markdown",
   "metadata": {},
   "source": [
    "## After initial cleaning, begin to make models."
   ]
  },
  {
   "cell_type": "code",
   "execution_count": null,
   "metadata": {
    "scrolled": true
   },
   "outputs": [],
   "source": [
    "X = df_reg.drop('price', axis = 1)\n",
    "\n",
    "y = df_reg['price']\n",
    "\n",
    "X = sm.add_constant(X)\n",
    "\n",
    "reg = sm.OLS(y, X).fit()\n",
    "pred = reg.predict(X)\n",
    "resid = reg.resid\n",
    "\n",
    "reg.summary()\n",
    "\n",
    "# multiple regression 1"
   ]
  },
  {
   "cell_type": "markdown",
   "metadata": {},
   "source": [
    "## Clearly this is not a good model. The R^2 is not good and there are non significant P values."
   ]
  },
  {
   "cell_type": "code",
   "execution_count": null,
   "metadata": {},
   "outputs": [],
   "source": [
    "#Import the library for VIF\n",
    "from statsmodels.stats.outliers_influence import variance_inflation_factor\n",
    "\n",
    "#Create the VIF for the features dataframe\n",
    "vif = pd.DataFrame()\n",
    "vif['VIF Factor'] = [variance_inflation_factor(X.values, i) for i in range(1, X.shape[1])]\n",
    "\n",
    "#Add a column for labels\n",
    "vif['Features'] = X.columns[1:]\n",
    "\n",
    "round(vif, 1).sort_values(by = 'VIF Factor', ascending = False)"
   ]
  },
  {
   "cell_type": "code",
   "execution_count": null,
   "metadata": {},
   "outputs": [],
   "source": [
    "df_cars.sort_values('make_name')\n",
    "\n",
    "# sort by make_name"
   ]
  },
  {
   "cell_type": "code",
   "execution_count": null,
   "metadata": {},
   "outputs": [],
   "source": [
    "df_cars['make_name'].value_counts()\n",
    "\n",
    "# value counts for make_name"
   ]
  },
  {
   "cell_type": "code",
   "execution_count": null,
   "metadata": {},
   "outputs": [],
   "source": [
    "pd.set_option('display.max_rows', 100)\n",
    "\n",
    "# setting pandas to view more rows"
   ]
  },
  {
   "cell_type": "code",
   "execution_count": null,
   "metadata": {
    "scrolled": false
   },
   "outputs": [],
   "source": [
    "df_cars['make_name'].value_counts()\n",
    "\n",
    "# value counts for make_name"
   ]
  },
  {
   "cell_type": "code",
   "execution_count": null,
   "metadata": {},
   "outputs": [],
   "source": [
    "df_lowsales = pd.DataFrame()\n",
    "\n",
    "#Dataframe to hold low sales - dropping makes with counts < 1000 due to wide variety in prices and makes in small counts"
   ]
  },
  {
   "cell_type": "code",
   "execution_count": null,
   "metadata": {},
   "outputs": [],
   "source": [
    "counts = df_cars['make_name'].value_counts()\n",
    "\n",
    "df_lowsales = df_cars[~df_cars['make_name'].isin(counts[counts > 1000].index)]\n",
    "\n",
    "#Creating a series of value counts\n",
    "# Uses the counts series to determine if the make_name is a category with lower than 1000 values\n",
    "#df_lowsales hold values less than 1000"
   ]
  },
  {
   "cell_type": "code",
   "execution_count": null,
   "metadata": {},
   "outputs": [],
   "source": [
    "df_lowsales.sample(75)\n",
    "\n",
    "# view sample or low sales"
   ]
  },
  {
   "cell_type": "code",
   "execution_count": null,
   "metadata": {},
   "outputs": [],
   "source": [
    "df_lowsales.shape\n",
    "\n",
    "# view shape of low sales"
   ]
  },
  {
   "cell_type": "code",
   "execution_count": null,
   "metadata": {},
   "outputs": [],
   "source": [
    "df_lowsales['make_name'].value_counts()\n",
    "\n",
    "# value counts of make_name"
   ]
  },
  {
   "cell_type": "code",
   "execution_count": null,
   "metadata": {},
   "outputs": [],
   "source": [
    "df_reg['make_name'] = df_cars['make_name']\n",
    "\n",
    "# add make name to df_reg "
   ]
  },
  {
   "cell_type": "code",
   "execution_count": null,
   "metadata": {},
   "outputs": [],
   "source": [
    "cond = df_cars['make_name'].isin(df_lowsales['make_name'])\n",
    "\n",
    "# create a series of rows that are in both\n",
    "\n",
    "df_cars.drop(df_cars[cond].index, inplace = True)\n",
    "df_reg.drop(df_reg[cond].index, inplace = True)\n",
    "\n",
    "# Drops anything from that series in df_cars and df_reg "
   ]
  },
  {
   "cell_type": "code",
   "execution_count": null,
   "metadata": {},
   "outputs": [],
   "source": [
    "df_reg.info()\n",
    "\n",
    "# view info "
   ]
  },
  {
   "cell_type": "code",
   "execution_count": null,
   "metadata": {},
   "outputs": [],
   "source": [
    "dummies_mn = pd.get_dummies(df_reg['make_name'], drop_first = False, prefix = 'mn', \\\n",
    "                            dtype = 'int')\n",
    "\n",
    "# dummy variable make_name"
   ]
  },
  {
   "cell_type": "code",
   "execution_count": null,
   "metadata": {},
   "outputs": [],
   "source": [
    "df_reg = pd.concat([df_reg, dummies_mn], axis = 1)\n",
    "\n",
    "# add dummy variables to regression dataframe"
   ]
  },
  {
   "cell_type": "code",
   "execution_count": null,
   "metadata": {},
   "outputs": [],
   "source": [
    "df_reg = df_reg.drop(['mn_Ford', 'make_name'], axis = 1)\n",
    "df_reg.info()\n",
    "\n",
    "# drop columns and view info"
   ]
  },
  {
   "cell_type": "code",
   "execution_count": null,
   "metadata": {},
   "outputs": [],
   "source": [
    "df_cars['model_name'].value_counts()\n",
    "\n",
    "# value counts for model name"
   ]
  },
  {
   "cell_type": "code",
   "execution_count": null,
   "metadata": {},
   "outputs": [],
   "source": [
    "df_c_pivot = df_cars.pivot_table(index='make_name', columns = 'model_name', values = 'price')\n",
    "\n",
    "#Create a pivot table for 'Model Name' by 'Make Name'\n",
    "\n",
    "df_c_pivot\n",
    "\n",
    "#Display the pivot table"
   ]
  },
  {
   "cell_type": "code",
   "execution_count": null,
   "metadata": {},
   "outputs": [],
   "source": [
    "df_cars['body_type'].value_counts()\n",
    "\n",
    "# value counts for body type"
   ]
  },
  {
   "cell_type": "code",
   "execution_count": null,
   "metadata": {},
   "outputs": [],
   "source": [
    "dummies_bt = pd.get_dummies(df_cars['body_type'], drop_first = False, prefix = 'bt', \\\n",
    "                            dtype = 'int')\n",
    "df_reg = pd.concat([df_reg, dummies_bt], axis = 1)\n",
    "df_reg.info()\n",
    "\n",
    "#create dummy variables for body type and add them into df_reg"
   ]
  },
  {
   "cell_type": "code",
   "execution_count": null,
   "metadata": {},
   "outputs": [],
   "source": [
    "df_reg = df_reg.drop('bt_SUV / Crossover', axis = 1)\n",
    "\n",
    "#drop SUV/Crossover because it has the largest number of counts"
   ]
  },
  {
   "cell_type": "code",
   "execution_count": null,
   "metadata": {},
   "outputs": [],
   "source": [
    "df_reg.info()  \n",
    "\n",
    "# view info"
   ]
  },
  {
   "cell_type": "code",
   "execution_count": null,
   "metadata": {},
   "outputs": [],
   "source": [
    "df_cars['city'].value_counts()\n",
    "\n",
    "# value counts for city"
   ]
  },
  {
   "cell_type": "code",
   "execution_count": null,
   "metadata": {},
   "outputs": [],
   "source": [
    "dummies_ci = pd.get_dummies(df_cars['city'], drop_first = False, prefix = 'ci', \\\n",
    "                            dtype = 'int')\n",
    "df_reg = pd.concat([df_reg, dummies_ci], axis = 1)\n",
    "df_reg.info()\n",
    "\n",
    "#Dummy variables for city"
   ]
  },
  {
   "cell_type": "code",
   "execution_count": null,
   "metadata": {},
   "outputs": [],
   "source": [
    "df_reg = df_reg.drop('ci_Houston', axis = 1)\n",
    "\n",
    "#drop Houston from df_reg"
   ]
  },
  {
   "cell_type": "code",
   "execution_count": null,
   "metadata": {},
   "outputs": [],
   "source": [
    "df_reg.info()\n",
    "\n",
    "# view the ever growing df_reg dataframe"
   ]
  },
  {
   "cell_type": "code",
   "execution_count": null,
   "metadata": {},
   "outputs": [],
   "source": [
    "df_cars['engine_type'].value_counts()\n",
    "\n",
    "# value counts for engine type"
   ]
  },
  {
   "cell_type": "code",
   "execution_count": null,
   "metadata": {},
   "outputs": [],
   "source": [
    "df_cars[df_cars['maximum_seating'].isna()]\n",
    "\n",
    "# view na for maximum seating"
   ]
  },
  {
   "cell_type": "code",
   "execution_count": null,
   "metadata": {},
   "outputs": [],
   "source": [
    "df_cars['maximum_seating'].value_counts()\n",
    "\n",
    "# value_counts for maximum_seating"
   ]
  },
  {
   "cell_type": "code",
   "execution_count": null,
   "metadata": {},
   "outputs": [],
   "source": [
    "df_cars['maximum_seating'].describe()\n",
    "\n",
    "# describe maximum_seating"
   ]
  },
  {
   "cell_type": "code",
   "execution_count": null,
   "metadata": {},
   "outputs": [],
   "source": [
    "df_cars['maximum_seating'] = df_cars['maximum_seating'].fillna(\"5 seats\")\n",
    "\n",
    "# fill na values in maximum seating with 5 seats. Assuming since there are so many values for 5 seats, the missing values being added will not negatively impact the model"
   ]
  },
  {
   "cell_type": "code",
   "execution_count": null,
   "metadata": {},
   "outputs": [],
   "source": [
    "df_cars['maximum_seating'].value_counts()\n",
    "\n",
    "# value counts for maximum seating with na values filled"
   ]
  },
  {
   "cell_type": "code",
   "execution_count": null,
   "metadata": {},
   "outputs": [],
   "source": [
    "df_cars[df_cars['maximum_seating'] == '--']\n",
    "\n",
    "# viewing -- in maximum_seating"
   ]
  },
  {
   "cell_type": "code",
   "execution_count": null,
   "metadata": {},
   "outputs": [],
   "source": [
    "df_cars = df_cars.replace({'--' : '5 seats'})\n",
    "\n",
    "# replace the value -- with 5 seats for the same reason as above"
   ]
  },
  {
   "cell_type": "code",
   "execution_count": null,
   "metadata": {},
   "outputs": [],
   "source": [
    "df_cars['maximum_seating'].value_counts()\n",
    "\n",
    "# value_counts for maximum_seating with na and -- filled "
   ]
  },
  {
   "cell_type": "code",
   "execution_count": null,
   "metadata": {},
   "outputs": [],
   "source": [
    "dummies_ms = pd.get_dummies(df_cars['maximum_seating'], drop_first = False, prefix = 'ms', \\\n",
    "                            dtype = 'int')\n",
    "df_reg = pd.concat([df_reg, dummies_ms], axis = 1)\n",
    "df_reg.info()\n",
    "\n",
    "# dummy variable maximum seats"
   ]
  },
  {
   "cell_type": "code",
   "execution_count": null,
   "metadata": {},
   "outputs": [],
   "source": [
    "df_reg = df_reg.drop('ms_5 seats', axis = 1)\n",
    "\n",
    "# drop 5 seats because it has the most"
   ]
  },
  {
   "cell_type": "code",
   "execution_count": null,
   "metadata": {},
   "outputs": [],
   "source": [
    "df_reg.info()\n",
    "\n",
    "# view info"
   ]
  },
  {
   "cell_type": "code",
   "execution_count": null,
   "metadata": {},
   "outputs": [],
   "source": [
    "X = df_reg.drop('price', axis = 1)\n",
    "\n",
    "y = df_reg['price']\n",
    "\n",
    "X = sm.add_constant(X)\n",
    "\n",
    "reg = sm.OLS(y, X).fit()\n",
    "pred = reg.predict(X)\n",
    "resid = reg.resid\n",
    "\n",
    "reg.summary()\n",
    "\n",
    "# second regression model, including more features"
   ]
  },
  {
   "cell_type": "markdown",
   "metadata": {},
   "source": [
    "## The second regression model shows a significantly better value for R^2, which is a huge improvement thanks to the inclusion of more features. It still shows many features with p values that are not significant. Clean those after further improving the model."
   ]
  },
  {
   "cell_type": "code",
   "execution_count": null,
   "metadata": {},
   "outputs": [],
   "source": [
    "# Create a residual plot\n",
    "plt.figure(figsize = (20, 16))\n",
    "sns.jointplot(x = pred, y = resid, kind = 'reg', ratio = 5, height = 8, \\\n",
    "             line_kws = {'color' : 'black'})\n",
    "\n",
    "#Add x and y labels\n",
    "plt.xlabel('Predicted Sale Price', fontweight = 'bold', fontsize = 14, horizontalalignment = 'center')\n",
    "plt.ylabel('Residual', fontweight = 'bold', fontsize = 14, horizontalalignment = 'center')"
   ]
  },
  {
   "cell_type": "markdown",
   "metadata": {},
   "source": [
    "## The residual plot shows that WE WILL PAY ***YOU*** TO TAKE OUR CARS COME ON DOWN NOW AND GET YOURS!!\n",
    "\n",
    "## The many predicted sales prices below zero are an issue that needs to be fixed as well as the oddly high residuals around the 50000 mark."
   ]
  },
  {
   "cell_type": "code",
   "execution_count": null,
   "metadata": {},
   "outputs": [],
   "source": [
    "df_cars.info()\n",
    "\n",
    "# view info"
   ]
  },
  {
   "cell_type": "code",
   "execution_count": null,
   "metadata": {},
   "outputs": [],
   "source": [
    "def leather_seats(c):\n",
    "    ls = 'Leather Seats'\n",
    "    list_options = str(c['major_options'])\n",
    "    \n",
    "    if list_options.find(ls) >= 0:\n",
    "        return 1\n",
    "    else:\n",
    "        return 0\n",
    "\n",
    "    \n",
    "df_reg['leather_seats'] = df_cars.apply(leather_seats, axis = 1)\n",
    "\n",
    "#Create a function to pull a feature out of the major_options category"
   ]
  },
  {
   "cell_type": "code",
   "execution_count": null,
   "metadata": {},
   "outputs": [],
   "source": [
    "df_reg.head()\n",
    "\n",
    "# view head"
   ]
  },
  {
   "cell_type": "code",
   "execution_count": null,
   "metadata": {},
   "outputs": [],
   "source": [
    "def bluetooth(c):\n",
    "    bt = 'Bluetooth'\n",
    "    list_options = str(c['major_options'])\n",
    "    \n",
    "    if list_options.find(bt) >= 0:\n",
    "        return 1\n",
    "    else:\n",
    "        return 0\n",
    "\n",
    "    \n",
    "df_reg['bluetooth'] = df_cars.apply(bluetooth, axis = 1)\n",
    "\n",
    "#Create a function to pull a feature out of major_options"
   ]
  },
  {
   "cell_type": "code",
   "execution_count": null,
   "metadata": {},
   "outputs": [],
   "source": [
    "df_reg.head()\n",
    "\n",
    "# view head"
   ]
  },
  {
   "cell_type": "code",
   "execution_count": null,
   "metadata": {},
   "outputs": [],
   "source": [
    "def backupcam(c):\n",
    "    bc = 'Backup Camera'\n",
    "    list_options = str(c['major_options'])\n",
    "    \n",
    "    if list_options.find(bc) >= 0:\n",
    "        return 1\n",
    "    else:\n",
    "        return 0\n",
    "\n",
    "    \n",
    "df_reg['backup_camera'] = df_cars.apply(backupcam, axis = 1)\n",
    "\n",
    "#Create a function to pull a feature out of major_options"
   ]
  },
  {
   "cell_type": "code",
   "execution_count": null,
   "metadata": {},
   "outputs": [],
   "source": [
    "df_reg.head()\n",
    "\n",
    "# view head"
   ]
  },
  {
   "cell_type": "code",
   "execution_count": null,
   "metadata": {},
   "outputs": [],
   "source": [
    "def sunmoon(c):\n",
    "    sm = 'Sunroof/Moonroof'\n",
    "    list_options = str(c['major_options'])\n",
    "    \n",
    "    if list_options.find(sm) >= 0:\n",
    "        return 1\n",
    "    else:\n",
    "        return 0\n",
    "\n",
    "    \n",
    "df_reg['Sunroof/Moonroof'] = df_cars.apply(sunmoon, axis = 1)\n",
    "df_reg.head()\n",
    "\n",
    "#Create a function to pull a feature out of major_options"
   ]
  },
  {
   "cell_type": "code",
   "execution_count": null,
   "metadata": {},
   "outputs": [],
   "source": [
    "def phonecap(c):\n",
    "    cp = 'CarPlay'\n",
    "    aa = 'Android Auto'\n",
    "    list_options = str(c['major_options'])\n",
    "    \n",
    "    if list_options.find(cp) >= 0 or list_options.find(aa) >=0:\n",
    "        return 1\n",
    "    else:\n",
    "        return 0\n",
    "\n",
    "    \n",
    "df_reg['Phone Capability'] = df_cars.apply(phonecap, axis = 1)\n",
    "df_reg.head()\n",
    "\n",
    "#Create a function to pull a feature out of major_options"
   ]
  },
  {
   "cell_type": "code",
   "execution_count": null,
   "metadata": {
    "scrolled": false
   },
   "outputs": [],
   "source": [
    "X = df_reg.drop('price', axis = 1)\n",
    "\n",
    "y = df_reg['price']\n",
    "\n",
    "X = sm.add_constant(X)\n",
    "\n",
    "reg = sm.OLS(y, X).fit()\n",
    "pred = reg.predict(X)\n",
    "resid = reg.resid\n",
    "\n",
    "reg.summary()\n",
    "\n",
    "# multiple regression number 3"
   ]
  },
  {
   "cell_type": "code",
   "execution_count": null,
   "metadata": {},
   "outputs": [],
   "source": [
    "# Create a residual plot\n",
    "plt.figure(figsize = (20, 16))\n",
    "sns.jointplot(x = pred, y = resid, kind = 'reg', ratio = 5, height = 8, \\\n",
    "             line_kws = {'color' : 'black'})\n",
    "\n",
    "#Add x and y labels\n",
    "plt.xlabel('Predicted Sale Price', fontweight = 'bold', fontsize = 14, horizontalalignment = 'center')\n",
    "plt.ylabel('Residual', fontweight = 'bold', fontsize = 14, horizontalalignment = 'center')"
   ]
  },
  {
   "cell_type": "markdown",
   "metadata": {},
   "source": [
    "## The third multiple regression and residual plot does not show much of a difference from the second one, Indicating that pulling out features from major options did not have much of an effect."
   ]
  },
  {
   "cell_type": "code",
   "execution_count": null,
   "metadata": {
    "scrolled": false
   },
   "outputs": [],
   "source": [
    "features = X.drop('const', axis = 1)\n",
    "\n",
    "# Create a dataframe that includes the X dataset without the constant\n",
    "\n",
    "corrMatrix = features.corr()\n",
    "\n",
    "# Create a corrMatrix\n",
    "\n",
    "df_corrMatrix = pd.DataFrame(corrMatrix)\n",
    "round(df_corrMatrix, 3)\n",
    "\n",
    "#Convert corrMatrix to a dataframe"
   ]
  },
  {
   "cell_type": "code",
   "execution_count": null,
   "metadata": {},
   "outputs": [],
   "source": [
    "#Set the colormap for the heatmap\n",
    "colormap = plt.cm.RdBu\n",
    "\n",
    "#Set the size for the figure\n",
    "plt.figure(figsize = (40, 40))\n",
    "\n",
    "#Create the heatmap\n",
    "sns.heatmap(df_corrMatrix, linewidths = 0.1, vmax = 1.0, vmin = -1.0, \\\n",
    "            square = True, cmap = colormap, linecolor = 'white', annot = False)"
   ]
  },
  {
   "cell_type": "markdown",
   "metadata": {},
   "source": [
    "## The heatmap shows significant correlation in the top left corner that seems to make sense."
   ]
  },
  {
   "cell_type": "code",
   "execution_count": null,
   "metadata": {
    "scrolled": true
   },
   "outputs": [],
   "source": [
    "from statsmodels.stats.outliers_influence import variance_inflation_factor\n",
    "\n",
    "#Import the library for VIF\n",
    "\n",
    "vif = pd.DataFrame()\n",
    "vif['VIF Factor'] = [variance_inflation_factor(X.values, i) for i in range(1, X.shape[1])]\n",
    "\n",
    "#Import the library for VIF\n",
    "\n",
    "vif['Features'] = X.columns[1:]\n",
    "\n",
    "round(vif, 1).sort_values(by = 'VIF Factor', ascending = False)\n",
    "\n",
    "#Add a column for labels"
   ]
  },
  {
   "cell_type": "markdown",
   "metadata": {},
   "source": [
    "## The VIF shows multicollinearity for the two fuel economy features."
   ]
  },
  {
   "cell_type": "code",
   "execution_count": null,
   "metadata": {},
   "outputs": [],
   "source": [
    "df_reg = df_reg[df_reg['year'] >= 2015]\n",
    "\n",
    "# Drop the cars made before 2010"
   ]
  },
  {
   "cell_type": "code",
   "execution_count": null,
   "metadata": {},
   "outputs": [],
   "source": [
    "df_reg.info()\n",
    "\n",
    "# view info"
   ]
  },
  {
   "cell_type": "code",
   "execution_count": null,
   "metadata": {},
   "outputs": [],
   "source": [
    "df_reg.head()\n",
    "\n",
    "# view head"
   ]
  },
  {
   "cell_type": "code",
   "execution_count": null,
   "metadata": {},
   "outputs": [],
   "source": [
    "df_reg['year'].value_counts().sum()\n",
    "\n",
    "# view sum of value counts for year"
   ]
  },
  {
   "cell_type": "code",
   "execution_count": null,
   "metadata": {
    "scrolled": false
   },
   "outputs": [],
   "source": [
    "X = df_reg.drop('price', axis = 1)\n",
    "\n",
    "y = df_reg['price']\n",
    "\n",
    "X = sm.add_constant(X)\n",
    "\n",
    "reg = sm.OLS(y, X).fit()\n",
    "pred = reg.predict(X)\n",
    "resid = reg.resid\n",
    "\n",
    "reg.summary()\n",
    "\n",
    "# fourth regression model"
   ]
  },
  {
   "cell_type": "code",
   "execution_count": null,
   "metadata": {
    "scrolled": true
   },
   "outputs": [],
   "source": [
    "# Create a residual plot\n",
    "plt.figure(figsize = (20, 16))\n",
    "sns.jointplot(x = pred, y = resid, kind = 'reg', ratio = 5, height = 8, \\\n",
    "             line_kws = {'color' : 'black'})\n",
    "\n",
    "#Add x and y labels\n",
    "plt.xlabel('Predicted Sale Price', fontweight = 'bold', fontsize = 14, horizontalalignment = 'center')\n",
    "plt.ylabel('Residual', fontweight = 'bold', fontsize = 14, horizontalalignment = 'center')"
   ]
  },
  {
   "cell_type": "markdown",
   "metadata": {},
   "source": [
    "## The fourth regression and residual plot dont show a significant difference in the R^2 value, but we finally stopped giving away money and cars."
   ]
  },
  {
   "cell_type": "code",
   "execution_count": null,
   "metadata": {},
   "outputs": [],
   "source": [
    "features = X.drop('const', axis = 1)\n",
    "\n",
    "# Create a dataframe that includes the X dataset without the constant\n",
    "\n",
    "corrMatrix = features.corr()\n",
    "\n",
    "# Create a corrMatrix\n",
    "\n",
    "df_corrMatrix = pd.DataFrame(corrMatrix)\n",
    "round(df_corrMatrix, 3)\n",
    "\n",
    "#Convert corrMatrix to a dataframe"
   ]
  },
  {
   "cell_type": "code",
   "execution_count": null,
   "metadata": {},
   "outputs": [],
   "source": [
    "#Set the colormap for the heatmap\n",
    "colormap = plt.cm.RdBu\n",
    "\n",
    "#Set the size for the figure\n",
    "plt.figure(figsize = (40, 40))\n",
    "\n",
    "#Create the heatmap\n",
    "sns.heatmap(df_corrMatrix, linewidths = 0.1, vmax = 1.0, vmin = -1.0, \\\n",
    "            square = True, cmap = colormap, linecolor = 'white', annot = False)"
   ]
  },
  {
   "cell_type": "code",
   "execution_count": null,
   "metadata": {},
   "outputs": [],
   "source": [
    "#Import the library for VIF\n",
    "from statsmodels.stats.outliers_influence import variance_inflation_factor\n",
    "\n",
    "#Create the VIF for the features dataframe\n",
    "vif = pd.DataFrame()\n",
    "vif['VIF Factor'] = [variance_inflation_factor(X.values, i) for i in range(1, X.shape[1])]\n",
    "\n",
    "#Add a column for labels\n",
    "vif['Features'] = X.columns[1:]\n",
    "\n",
    "round(vif, 1).sort_values(by = 'VIF Factor', ascending = False)"
   ]
  },
  {
   "cell_type": "code",
   "execution_count": null,
   "metadata": {},
   "outputs": [],
   "source": [
    "df_reg['comb_fuel_economy'] = (df_reg['highway_fuel_economy'] + df_reg['city_fuel_economy']) / 2\n",
    "df_reg = df_reg.drop(['highway_fuel_economy', 'city_fuel_economy'], axis = 1)\n",
    "\n",
    "#combine fuel econ"
   ]
  },
  {
   "cell_type": "code",
   "execution_count": null,
   "metadata": {},
   "outputs": [],
   "source": [
    "df_reg.info()\n",
    "\n",
    "# view info"
   ]
  },
  {
   "cell_type": "code",
   "execution_count": null,
   "metadata": {
    "scrolled": false
   },
   "outputs": [],
   "source": [
    "X = df_reg.drop('price', axis = 1)\n",
    "\n",
    "y = df_reg['price']\n",
    "\n",
    "X = sm.add_constant(X)\n",
    "\n",
    "reg = sm.OLS(y, X).fit()\n",
    "pred = reg.predict(X)\n",
    "resid = reg.resid\n",
    "\n",
    "reg.summary()\n",
    "\n",
    "# fifth regression"
   ]
  },
  {
   "cell_type": "code",
   "execution_count": null,
   "metadata": {},
   "outputs": [],
   "source": [
    "# Create a residual plot\n",
    "plt.figure(figsize = (20, 16))\n",
    "sns.jointplot(x = pred, y = resid, kind = 'reg', ratio = 5, height = 8, \\\n",
    "             line_kws = {'color' : 'black'})\n",
    "\n",
    "#Add x and y labels\n",
    "plt.xlabel('Predicted Sale Price', fontweight = 'bold', fontsize = 14, horizontalalignment = 'center')\n",
    "plt.ylabel('Residual', fontweight = 'bold', fontsize = 14, horizontalalignment = 'center')"
   ]
  },
  {
   "cell_type": "markdown",
   "metadata": {},
   "source": [
    "## Finally at the fifth regression and residual plot, after combining the fuel economies, progress is being made. "
   ]
  },
  {
   "cell_type": "code",
   "execution_count": null,
   "metadata": {
    "scrolled": false
   },
   "outputs": [],
   "source": [
    "features = X.drop('const', axis = 1)\n",
    "\n",
    "# Create a dataframe that includes the X dataset without the constant\n",
    "\n",
    "corrMatrix = features.corr()\n",
    "\n",
    "# Create a corrMatrix\n",
    "\n",
    "df_corrMatrix = pd.DataFrame(corrMatrix)\n",
    "round(df_corrMatrix, 3)\n",
    "\n",
    "#Convert corrMatrix to a dataframe"
   ]
  },
  {
   "cell_type": "code",
   "execution_count": null,
   "metadata": {},
   "outputs": [],
   "source": [
    "#Set the colormap for the heatmap\n",
    "colormap = plt.cm.RdBu\n",
    "\n",
    "#Set the size for the figure\n",
    "plt.figure(figsize = (40, 40))\n",
    "\n",
    "#Create the heatmap\n",
    "sns.heatmap(df_corrMatrix, linewidths = 0.1, vmax = 1.0, vmin = -1.0, \\\n",
    "            square = True, cmap = colormap, linecolor = 'white', annot = False)"
   ]
  },
  {
   "cell_type": "code",
   "execution_count": null,
   "metadata": {},
   "outputs": [],
   "source": [
    "#Import the library for VIF\n",
    "from statsmodels.stats.outliers_influence import variance_inflation_factor\n",
    "\n",
    "#Create the VIF for the features dataframe\n",
    "vif = pd.DataFrame()\n",
    "vif['VIF Factor'] = [variance_inflation_factor(X.values, i) for i in range(1, X.shape[1])]\n",
    "\n",
    "#Add a column for labels\n",
    "vif['Features'] = X.columns[1:]\n",
    "\n",
    "round(vif, 1).sort_values(by = 'VIF Factor', ascending = False)"
   ]
  },
  {
   "cell_type": "code",
   "execution_count": null,
   "metadata": {},
   "outputs": [],
   "source": [
    "X = X.drop(['bt_Hatchback', 'ci_Las Vegas', 'ci_Raleigh', 'ci_Scottsdale'], axis = 1)\n",
    "\n",
    "y = df_reg['price']\n",
    "\n",
    "X = sm.add_constant(X)\n",
    "\n",
    "reg = sm.OLS(y, X).fit()\n",
    "pred = reg.predict(X)\n",
    "resid = reg.resid\n",
    "\n",
    "reg.summary()\n",
    "\n",
    "# fifth regression"
   ]
  },
  {
   "cell_type": "code",
   "execution_count": null,
   "metadata": {},
   "outputs": [],
   "source": [
    "X = X.drop('ft_Compressed Natural Gas', axis = 1)\n",
    "\n",
    "y = df_reg['price']\n",
    "\n",
    "X = sm.add_constant(X)\n",
    "\n",
    "reg = sm.OLS(y, X).fit()\n",
    "pred = reg.predict(X)\n",
    "resid = reg.resid\n",
    "\n",
    "reg.summary()\n",
    "\n",
    "# sixth regression"
   ]
  },
  {
   "cell_type": "code",
   "execution_count": null,
   "metadata": {},
   "outputs": [],
   "source": [
    "X = X.drop('ci_Columbia', axis = 1)\n",
    "\n",
    "y = df_reg['price']\n",
    "\n",
    "X = sm.add_constant(X)\n",
    "\n",
    "reg = sm.OLS(y, X).fit()\n",
    "pred = reg.predict(X)\n",
    "resid = reg.resid\n",
    "\n",
    "reg.summary()\n",
    "\n",
    "# seventh regression"
   ]
  },
  {
   "cell_type": "code",
   "execution_count": null,
   "metadata": {},
   "outputs": [],
   "source": [
    "# Create a residual plot\n",
    "plt.figure(figsize = (20, 16))\n",
    "sns.jointplot(x = pred, y = resid, kind = 'reg', ratio = 5, height = 8, \\\n",
    "             line_kws = {'color' : 'black'})\n",
    "\n",
    "#Add x and y labels\n",
    "plt.xlabel('Predicted Sale Price', fontweight = 'bold', fontsize = 14, horizontalalignment = 'center')\n",
    "plt.ylabel('Residual', fontweight = 'bold', fontsize = 14, horizontalalignment = 'center')"
   ]
  },
  {
   "cell_type": "markdown",
   "metadata": {},
   "source": [
    "### After removing more features with a non significant p-value, the R^2 and odd residuals did not change. Overall the model works pretty well considering it is broad and not based on a specific brand or model of car. Considering the broad range of values, and the very large dataset, the end model is a pretty good indicator of the predicted sale price of a car."
   ]
  }
 ],
 "metadata": {
  "kernelspec": {
   "display_name": "Python 3",
   "language": "python",
   "name": "python3"
  },
  "language_info": {
   "codemirror_mode": {
    "name": "ipython",
    "version": 3
   },
   "file_extension": ".py",
   "mimetype": "text/x-python",
   "name": "python",
   "nbconvert_exporter": "python",
   "pygments_lexer": "ipython3",
   "version": "3.8.3"
  }
 },
 "nbformat": 4,
 "nbformat_minor": 4
}
